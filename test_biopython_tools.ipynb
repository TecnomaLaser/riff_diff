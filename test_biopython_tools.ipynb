{
 "cells": [
  {
   "attachments": {},
   "cell_type": "markdown",
   "metadata": {},
   "source": [
    "# Imports"
   ]
  },
  {
   "cell_type": "code",
   "execution_count": 27,
   "metadata": {},
   "outputs": [],
   "source": [
    "import importlib\n",
    "import utils.biopython_tools as bptools\n",
    "import json\n",
    "import pandas as pd"
   ]
  },
  {
   "cell_type": "code",
   "execution_count": 28,
   "metadata": {},
   "outputs": [
    {
     "data": {
      "text/plain": [
       "<module 'utils.biopython_tools' from '/home/markus/projects/riff_diff/ensemble_evaluator/ensemble_evaluator/utils/biopython_tools.py'>"
      ]
     },
     "execution_count": 28,
     "metadata": {},
     "output_type": "execute_result"
    }
   ],
   "source": [
    "importlib.reload(bptools)"
   ]
  },
  {
   "cell_type": "code",
   "execution_count": 9,
   "metadata": {},
   "outputs": [
    {
     "name": "stdout",
     "output_type": "stream",
     "text": [
      "[('A', 1), ('A', 2), ('A', 3), ('A', 4), ('A', 5), ('B', 6), ('B', 7), ('B', 8), ('B', 9)]\n"
     ]
    }
   ],
   "source": [
    "motif_d = {\"A\": [1, 2, 3, 4, 5], \"B\": [6, 7, 8, 9]}\n",
    "def convert_motifdict_to_list(motif_dict: dict) -> list: \n",
    "    return [(chain, res) for chain in motif_dict for res in motif_dict[chain]]\n",
    "\n",
    "print(convert_motifdict_to_list(motif_d))"
   ]
  },
  {
   "attachments": {},
   "cell_type": "markdown",
   "metadata": {},
   "source": [
    "# Test replacement"
   ]
  },
  {
   "cell_type": "code",
   "execution_count": 18,
   "metadata": {},
   "outputs": [],
   "source": [
    "# get motif dicts:\n",
    "motif_df = pd.read_json(\"/home/markus/projects/rfdiffusion_testing/motif_replacement/motif_res.json\")\n",
    "pose_motif = motif_df.loc[\"D33-C34-B26-A44_0001_0001\"][\"motif_residues\"]"
   ]
  },
  {
   "cell_type": "code",
   "execution_count": 12,
   "metadata": {},
   "outputs": [],
   "source": [
    "pose_p = \"/home/markus/projects/rfdiffusion_testing/motif_replacement/D33-C34-B26-A44_0001_0001.pdb\"\n",
    "motif_pose_p = \"/home/markus/projects/rfdiffusion_testing/motif_replacement/ref_fragment/D33-C34-B26-A44_0001_0001.pdb\""
   ]
  },
  {
   "cell_type": "code",
   "execution_count": 46,
   "metadata": {},
   "outputs": [
    {
     "name": "stdout",
     "output_type": "stream",
     "text": [
      "4\n",
      "5\n",
      "6\n",
      "7\n",
      "8\n",
      "9\n",
      "10\n",
      "21\n",
      "22\n",
      "23\n",
      "24\n",
      "25\n",
      "26\n",
      "27\n",
      "38\n",
      "39\n",
      "40\n",
      "41\n",
      "42\n",
      "43\n",
      "44\n",
      "53\n",
      "54\n",
      "55\n",
      "56\n",
      "57\n",
      "58\n",
      "59\n"
     ]
    },
    {
     "data": {
      "text/plain": [
       "'/home/markus/projects/rfdiffusion_testing/motif_replacement/D33-C34-B26-A44_0001_0001_replaced.pdb'"
      ]
     },
     "execution_count": 46,
     "metadata": {},
     "output_type": "execute_result"
    }
   ],
   "source": [
    "importlib.reload(bptools)\n",
    "bptools.replace_motif_and_add_ligand(pose_p, motif_pose_p, pose_motif, pose_motif, new_pose=\"/home/markus/projects/rfdiffusion_testing/motif_replacement/D33-C34-B26-A44_0001_0001_replaced.pdb\", ligand_chain=\"F\")\n",
    "#\n",
    "#\n"
   ]
  },
  {
   "cell_type": "code",
   "execution_count": null,
   "metadata": {},
   "outputs": [],
   "source": []
  }
 ],
 "metadata": {
  "kernelspec": {
   "display_name": "base",
   "language": "python",
   "name": "python3"
  },
  "language_info": {
   "codemirror_mode": {
    "name": "ipython",
    "version": 3
   },
   "file_extension": ".py",
   "mimetype": "text/x-python",
   "name": "python",
   "nbconvert_exporter": "python",
   "pygments_lexer": "ipython3",
   "version": "3.9.7"
  },
  "orig_nbformat": 4
 },
 "nbformat": 4,
 "nbformat_minor": 2
}
