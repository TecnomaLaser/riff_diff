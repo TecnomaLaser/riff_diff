{
 "cells": [
  {
   "attachments": {},
   "cell_type": "markdown",
   "metadata": {},
   "source": [
    "# Imports"
   ]
  },
  {
   "cell_type": "code",
   "execution_count": null,
   "metadata": {},
   "outputs": [],
   "source": [
    "import importlib\n",
    "import utils.biopython_tools as bptools\n",
    "import json\n",
    "import pandas as pd"
   ]
  },
  {
   "cell_type": "code",
   "execution_count": 28,
   "metadata": {},
   "outputs": [
    {
     "data": {
      "text/plain": [
       "<module 'utils.biopython_tools' from '/home/markus/projects/riff_diff/ensemble_evaluator/ensemble_evaluator/utils/biopython_tools.py'>"
      ]
     },
     "execution_count": 28,
     "metadata": {},
     "output_type": "execute_result"
    }
   ],
   "source": [
    "importlib.reload(bptools)"
   ]
  },
  {
   "cell_type": "code",
   "execution_count": 9,
   "metadata": {},
   "outputs": [
    {
     "name": "stdout",
     "output_type": "stream",
     "text": [
      "[('A', 1), ('A', 2), ('A', 3), ('A', 4), ('A', 5), ('B', 6), ('B', 7), ('B', 8), ('B', 9)]\n"
     ]
    }
   ],
   "source": [
    "motif_d = {\"A\": [1, 2, 3, 4, 5], \"B\": [6, 7, 8, 9]}\n",
    "def convert_motifdict_to_list(motif_dict: dict) -> list: \n",
    "    return [(chain, res) for chain in motif_dict for res in motif_dict[chain]]\n",
    "\n",
    "print(convert_motifdict_to_list(motif_d))"
   ]
  },
  {
   "attachments": {},
   "cell_type": "markdown",
   "metadata": {},
   "source": [
    "# Test replacement"
   ]
  },
  {
   "cell_type": "code",
   "execution_count": 18,
   "metadata": {},
   "outputs": [],
   "source": [
    "# get motif dicts:\n",
    "motif_df = pd.read_json(\"/home/markus/projects/rfdiffusion_testing/motif_replacement/motif_res.json\")\n",
    "pose_motif = motif_df.loc[\"D33-C34-B26-A44_0001_0001\"][\"motif_residues\"]"
   ]
  },
  {
   "cell_type": "code",
   "execution_count": 12,
   "metadata": {},
   "outputs": [],
   "source": [
    "pose_p = \"/home/markus/projects/rfdiffusion_testing/motif_replacement/D33-C34-B26-A44_0001_0001.pdb\"\n",
    "motif_pose_p = \"/home/markus/projects/rfdiffusion_testing/motif_replacement/ref_fragment/D33-C34-B26-A44_0001_0001.pdb\""
   ]
  },
  {
   "cell_type": "code",
   "execution_count": 46,
   "metadata": {},
   "outputs": [
    {
     "name": "stdout",
     "output_type": "stream",
     "text": [
      "4\n",
      "5\n",
      "6\n",
      "7\n",
      "8\n",
      "9\n",
      "10\n",
      "21\n",
      "22\n",
      "23\n",
      "24\n",
      "25\n",
      "26\n",
      "27\n",
      "38\n",
      "39\n",
      "40\n",
      "41\n",
      "42\n",
      "43\n",
      "44\n",
      "53\n",
      "54\n",
      "55\n",
      "56\n",
      "57\n",
      "58\n",
      "59\n"
     ]
    },
    {
     "data": {
      "text/plain": [
       "'/home/markus/projects/rfdiffusion_testing/motif_replacement/D33-C34-B26-A44_0001_0001_replaced.pdb'"
      ]
     },
     "execution_count": 46,
     "metadata": {},
     "output_type": "execute_result"
    }
   ],
   "source": [
    "importlib.reload(bptools)\n",
    "bptools.replace_motif_and_add_ligand(pose_p, motif_pose_p, pose_motif, pose_motif, new_pose=\"/home/markus/projects/rfdiffusion_testing/motif_replacement/D33-C34-B26-A44_0001_0001_replaced.pdb\", ligand_chain=\"F\")\n",
    "#\n",
    "#\n"
   ]
  },
  {
   "attachments": {},
   "cell_type": "markdown",
   "metadata": {},
   "source": [
    "# Function for Contig reordering"
   ]
  },
  {
   "cell_type": "code",
   "execution_count": 15,
   "metadata": {},
   "outputs": [],
   "source": [
    "pose_opts = \"/home/mabr3112/anaconda3/envs/SE3nv/bin/python3 /home/mabr3112/RFdiffusion/run_inference.py diffuser.T=20 potentials.guide_scale=5 inference.num_designs=15 potentials.guiding_potentials=[\\'type:monomer_ROG,weight:1000,min_dist:0.1\\',\\'type:substrate_contacts,weight:5\\'] potentials.guide_decay='quadratic' 'contigmap.contigs=[3/A1-7/10/B1-7/8/C1-7/10/D1-7/37]' 'contigmap.inpaint_seq=[A1/A3/A4/A5/A6/A7/B1/B2/B3/B4/B5/B7/C1/C2/C3/C4/C6/C7/D1/D2/D4/D5/D6/D7]' potentials.substrate=EQU inference.output_prefix=/home/mabr3112/projects/riff_diff/ksi/diffusion/ksi_diff_small_v2_rog/rfdiffusion/output_pdbs//C2-A46-D50-B11 inference.input_pdb=/home/mabr3112/projects/riff_diff/ksi/paths/ksi_diff_small/pdb_in/C2-A46-D50-B11.pdb\"\n",
    "total_length = 200\n"
   ]
  },
  {
   "cell_type": "code",
   "execution_count": 24,
   "metadata": {},
   "outputs": [
    {
     "name": "stdout",
     "output_type": "stream",
     "text": [
      "A1-7/10-100/B1-7/8-100/C1-7/10-100/D1-7\n",
      "A1-7/10/B1-7/8/C1-7/10/D1-7\n",
      "/home/mabr3112/anaconda3/envs/SE3nv/bin/python3 /home/mabr3112/RFdiffusion/run_inference.py diffuser.T=20 potentials.guide_scale=5 inference.num_designs=15 potentials.guiding_potentials=['type:monomer_ROG,weight:1000,min_dist:0.1','type:substrate_contacts,weight:5'] potentials.guide_decay='quadratic' 'contigmap.contigs=[3/A1-7/10-100/B1-7/8-100/C1-7/10-100/D1-7/37]' contigmap.length=200  'contigmap.inpaint_seq=[A1/A3/A4/A5/A6/A7/B1/B2/B3/B4/B5/B7/C1/C2/C3/C4/C6/C7/D1/D2/D4/D5/D6/D7]' potentials.substrate=EQU inference.output_prefix=/home/mabr3112/projects/riff_diff/ksi/diffusion/ksi_diff_small_v2_rog/rfdiffusion/output_pdbs//C2-A46-D50-B11 inference.input_pdb=/home/mabr3112/projects/riff_diff/ksi/paths/ksi_diff_small/pdb_in/C2-A46-D50-B11.pdb\n"
     ]
    }
   ],
   "source": [
    "full_contig_str = [x for x in pose_opts.split(\" \") if x.startswith(\"'contigmap.contigs\")][0]\n",
    "contig_str = full_contig_str[full_contig_str.find(\"[\")+1:full_contig_str.find(\"]\")]\n",
    "contigs = [x for x in contig_str.split(\"/\") if x][1:-1]\n",
    "new_contigs = \"/\".join([x if x[0].isalpha() else f\"{x}-100\" for x in contigs])\n",
    "new_contig_str = full_contig_str.replace(\"/\".join(contigs), new_contigs)\n",
    "print(new_contigs)\n",
    "print(\"/\".join(contigs))\n",
    "\n",
    "print(pose_opts.replace(full_contig_str, f\"{new_contig_str} contigmap.length={total_length} \"))"
   ]
  },
  {
   "cell_type": "code",
   "execution_count": null,
   "metadata": {},
   "outputs": [],
   "source": [
    "def overwrite_linker_length(pose_opts: str, total_length:int, max_linker_length:int=100) -> str:\n",
    "    '''overwrites linker length and allows linkers to be of any length (with at least the provided linker length)'''\n",
    "    full_contig_str = [x for x in pose_opts.split(\" \") if x.startswith(\"'contigmap.contigs\")][0]\n",
    "    contig_str = full_contig_str[full_contig_str.find(\"[\")+1:full_contig_str.find(\"]\")]\n",
    "    contigs = [x for x in contig_str.split(\"/\") if x][1:-1]\n",
    "    new_contigs = \"/\".join([x if x[0].isalpha() else f\"{x}-{max_linker_length}\" for x in contigs])\n",
    "    new_contig_str = full_contig_str.replace(\"/\".join(contigs), new_contigs)\n",
    "    return pose_opts.replace(full_contig_str, f\"{new_contig_str} contigmap.length={total_length} \")"
   ]
  },
  {
   "cell_type": "code",
   "execution_count": null,
   "metadata": {},
   "outputs": [],
   "source": []
  },
  {
   "cell_type": "code",
   "execution_count": null,
   "metadata": {},
   "outputs": [],
   "source": []
  },
  {
   "cell_type": "code",
   "execution_count": null,
   "metadata": {},
   "outputs": [],
   "source": []
  }
 ],
 "metadata": {
  "kernelspec": {
   "display_name": "base",
   "language": "python",
   "name": "python3"
  },
  "language_info": {
   "codemirror_mode": {
    "name": "ipython",
    "version": 3
   },
   "file_extension": ".py",
   "mimetype": "text/x-python",
   "name": "python",
   "nbconvert_exporter": "python",
   "pygments_lexer": "ipython3",
   "version": "3.9.7"
  },
  "orig_nbformat": 4
 },
 "nbformat": 4,
 "nbformat_minor": 2
}
