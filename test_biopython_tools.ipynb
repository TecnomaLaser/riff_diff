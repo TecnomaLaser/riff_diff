{
 "cells": [
  {
   "attachments": {},
   "cell_type": "markdown",
   "metadata": {},
   "source": [
    "# Imports"
   ]
  },
  {
   "cell_type": "code",
   "execution_count": null,
   "metadata": {},
   "outputs": [],
   "source": [
    "import importlib\n",
    "import utils.biopython_tools as bptools\n",
    "import json\n",
    "import pandas as pd"
   ]
  },
  {
   "cell_type": "code",
   "execution_count": 28,
   "metadata": {},
   "outputs": [
    {
     "data": {
      "text/plain": [
       "<module 'utils.biopython_tools' from '/home/markus/projects/riff_diff/ensemble_evaluator/ensemble_evaluator/utils/biopython_tools.py'>"
      ]
     },
     "execution_count": 28,
     "metadata": {},
     "output_type": "execute_result"
    }
   ],
   "source": [
    "importlib.reload(bptools)"
   ]
  },
  {
   "cell_type": "code",
   "execution_count": 9,
   "metadata": {},
   "outputs": [
    {
     "name": "stdout",
     "output_type": "stream",
     "text": [
      "[('A', 1), ('A', 2), ('A', 3), ('A', 4), ('A', 5), ('B', 6), ('B', 7), ('B', 8), ('B', 9)]\n"
     ]
    }
   ],
   "source": [
    "motif_d = {\"A\": [1, 2, 3, 4, 5], \"B\": [6, 7, 8, 9]}\n",
    "def convert_motifdict_to_list(motif_dict: dict) -> list: \n",
    "    return [(chain, res) for chain in motif_dict for res in motif_dict[chain]]\n",
    "\n",
    "print(convert_motifdict_to_list(motif_d))"
   ]
  },
  {
   "attachments": {},
   "cell_type": "markdown",
   "metadata": {},
   "source": [
    "# Test replacement"
   ]
  },
  {
   "cell_type": "code",
   "execution_count": 18,
   "metadata": {},
   "outputs": [],
   "source": [
    "# get motif dicts:\n",
    "motif_df = pd.read_json(\"/home/markus/projects/rfdiffusion_testing/motif_replacement/motif_res.json\")\n",
    "pose_motif = motif_df.loc[\"D33-C34-B26-A44_0001_0001\"][\"motif_residues\"]"
   ]
  },
  {
   "cell_type": "code",
   "execution_count": 12,
   "metadata": {},
   "outputs": [],
   "source": [
    "pose_p = \"/home/markus/projects/rfdiffusion_testing/motif_replacement/D33-C34-B26-A44_0001_0001.pdb\"\n",
    "motif_pose_p = \"/home/markus/projects/rfdiffusion_testing/motif_replacement/ref_fragment/D33-C34-B26-A44_0001_0001.pdb\""
   ]
  },
  {
   "cell_type": "code",
   "execution_count": 46,
   "metadata": {},
   "outputs": [
    {
     "name": "stdout",
     "output_type": "stream",
     "text": [
      "4\n",
      "5\n",
      "6\n",
      "7\n",
      "8\n",
      "9\n",
      "10\n",
      "21\n",
      "22\n",
      "23\n",
      "24\n",
      "25\n",
      "26\n",
      "27\n",
      "38\n",
      "39\n",
      "40\n",
      "41\n",
      "42\n",
      "43\n",
      "44\n",
      "53\n",
      "54\n",
      "55\n",
      "56\n",
      "57\n",
      "58\n",
      "59\n"
     ]
    },
    {
     "data": {
      "text/plain": [
       "'/home/markus/projects/rfdiffusion_testing/motif_replacement/D33-C34-B26-A44_0001_0001_replaced.pdb'"
      ]
     },
     "execution_count": 46,
     "metadata": {},
     "output_type": "execute_result"
    }
   ],
   "source": [
    "importlib.reload(bptools)\n",
    "bptools.replace_motif_and_add_ligand(pose_p, motif_pose_p, pose_motif, pose_motif, new_pose=\"/home/markus/projects/rfdiffusion_testing/motif_replacement/D33-C34-B26-A44_0001_0001_replaced.pdb\", ligand_chain=\"F\")\n",
    "#\n",
    "#\n"
   ]
  },
  {
   "attachments": {},
   "cell_type": "markdown",
   "metadata": {},
   "source": [
    "# Function for Contig reordering"
   ]
  },
  {
   "cell_type": "code",
   "execution_count": 15,
   "metadata": {},
   "outputs": [],
   "source": [
    "pose_opts = \"/home/mabr3112/anaconda3/envs/SE3nv/bin/python3 /home/mabr3112/RFdiffusion/run_inference.py diffuser.T=20 potentials.guide_scale=5 inference.num_designs=15 potentials.guiding_potentials=[\\'type:monomer_ROG,weight:1000,min_dist:0.1\\',\\'type:substrate_contacts,weight:5\\'] potentials.guide_decay='quadratic' 'contigmap.contigs=[3/A1-7/10/B1-7/8/C1-7/10/D1-7/37]' 'contigmap.inpaint_seq=[A1/A3/A4/A5/A6/A7/B1/B2/B3/B4/B5/B7/C1/C2/C3/C4/C6/C7/D1/D2/D4/D5/D6/D7]' potentials.substrate=EQU inference.output_prefix=/home/mabr3112/projects/riff_diff/ksi/diffusion/ksi_diff_small_v2_rog/rfdiffusion/output_pdbs//C2-A46-D50-B11 inference.input_pdb=/home/mabr3112/projects/riff_diff/ksi/paths/ksi_diff_small/pdb_in/C2-A46-D50-B11.pdb\"\n",
    "total_length = 200\n"
   ]
  },
  {
   "cell_type": "code",
   "execution_count": 24,
   "metadata": {},
   "outputs": [
    {
     "name": "stdout",
     "output_type": "stream",
     "text": [
      "A1-7/10-100/B1-7/8-100/C1-7/10-100/D1-7\n",
      "A1-7/10/B1-7/8/C1-7/10/D1-7\n",
      "/home/mabr3112/anaconda3/envs/SE3nv/bin/python3 /home/mabr3112/RFdiffusion/run_inference.py diffuser.T=20 potentials.guide_scale=5 inference.num_designs=15 potentials.guiding_potentials=['type:monomer_ROG,weight:1000,min_dist:0.1','type:substrate_contacts,weight:5'] potentials.guide_decay='quadratic' 'contigmap.contigs=[3/A1-7/10-100/B1-7/8-100/C1-7/10-100/D1-7/37]' contigmap.length=200  'contigmap.inpaint_seq=[A1/A3/A4/A5/A6/A7/B1/B2/B3/B4/B5/B7/C1/C2/C3/C4/C6/C7/D1/D2/D4/D5/D6/D7]' potentials.substrate=EQU inference.output_prefix=/home/mabr3112/projects/riff_diff/ksi/diffusion/ksi_diff_small_v2_rog/rfdiffusion/output_pdbs//C2-A46-D50-B11 inference.input_pdb=/home/mabr3112/projects/riff_diff/ksi/paths/ksi_diff_small/pdb_in/C2-A46-D50-B11.pdb\n"
     ]
    }
   ],
   "source": [
    "full_contig_str = [x for x in pose_opts.split(\" \") if x.startswith(\"'contigmap.contigs\")][0]\n",
    "contig_str = full_contig_str[full_contig_str.find(\"[\")+1:full_contig_str.find(\"]\")]\n",
    "contigs = [x for x in contig_str.split(\"/\") if x][1:-1]\n",
    "new_contigs = \"/\".join([x if x[0].isalpha() else f\"{x}-100\" for x in contigs])\n",
    "new_contig_str = full_contig_str.replace(\"/\".join(contigs), new_contigs)\n",
    "print(new_contigs)\n",
    "print(\"/\".join(contigs))\n",
    "\n",
    "print(pose_opts.replace(full_contig_str, f\"{new_contig_str} contigmap.length={total_length} \"))"
   ]
  },
  {
   "cell_type": "code",
   "execution_count": 26,
   "metadata": {},
   "outputs": [],
   "source": [
    "def overwrite_linker_length(pose_opts: str, total_length:int, max_linker_length:int=100) -> str:\n",
    "    '''overwrites linker length and allows linkers to be of any length (with at least the provided linker length)'''\n",
    "    full_contig_str = [x for x in pose_opts.split(\" \") if x.startswith(\"'contigmap.contigs\")][0]\n",
    "    contig_str = full_contig_str[full_contig_str.find(\"[\")+1:full_contig_str.find(\"]\")]\n",
    "    contigs = [x for x in contig_str.split(\"/\") if x][1:-1]\n",
    "    new_contigs = \"/\".join([x if x[0].isalpha() else f\"{x}-{max_linker_length}\" for x in contigs])\n",
    "    new_contig_str = full_contig_str.replace(\"/\".join(contigs), new_contigs)\n",
    "    return pose_opts.replace(full_contig_str, f\"{new_contig_str} contigmap.length={total_length} \")"
   ]
  },
  {
   "cell_type": "code",
   "execution_count": 27,
   "metadata": {},
   "outputs": [
    {
     "name": "stdout",
     "output_type": "stream",
     "text": [
      "/home/mabr3112/anaconda3/envs/SE3nv/bin/python3 /home/mabr3112/RFdiffusion/run_inference.py diffuser.T=20 potentials.guide_scale=5 inference.num_designs=15 potentials.guiding_potentials=['type:monomer_ROG,weight:1000,min_dist:0.1','type:substrate_contacts,weight:5'] potentials.guide_decay='quadratic' 'contigmap.contigs=[3/A1-7/10-123/B1-7/8-123/C1-7/10-123/D1-7/37]' contigmap.length=400  'contigmap.inpaint_seq=[A1/A3/A4/A5/A6/A7/B1/B2/B3/B4/B5/B7/C1/C2/C3/C4/C6/C7/D1/D2/D4/D5/D6/D7]' potentials.substrate=EQU inference.output_prefix=/home/mabr3112/projects/riff_diff/ksi/diffusion/ksi_diff_small_v2_rog/rfdiffusion/output_pdbs//C2-A46-D50-B11 inference.input_pdb=/home/mabr3112/projects/riff_diff/ksi/paths/ksi_diff_small/pdb_in/C2-A46-D50-B11.pdb\n"
     ]
    }
   ],
   "source": [
    "print(overwrite_linker_length(pose_opts, total_length=400, max_linker_length=123))"
   ]
  },
  {
   "cell_type": "code",
   "execution_count": null,
   "metadata": {},
   "outputs": [],
   "source": []
  },
  {
   "cell_type": "code",
   "execution_count": 2,
   "metadata": {},
   "outputs": [],
   "source": [
    "from matplotlib import pyplot as plt\n",
    "import numpy as np"
   ]
  },
  {
   "cell_type": "code",
   "execution_count": 33,
   "metadata": {},
   "outputs": [
    {
     "data": {
      "text/plain": [
       "[<matplotlib.lines.Line2D at 0x7f6e61ad0c10>]"
      ]
     },
     "execution_count": 33,
     "metadata": {},
     "output_type": "execute_result"
    },
    {
     "data": {
      "image/png": "[encoded data removed]",
      "text/plain": [
       "<Figure size 432x288 with 1 Axes>"
      ]
     },
     "metadata": {
      "needs_background": "light"
     },
     "output_type": "display_data"
    }
   ],
   "source": [
    "def f(x):\n",
    "    return x + x * (1 - 1/np.exp(x))\n",
    "\n",
    "x = np.arange(1, 10)\n",
    "\n",
    "\n",
    "plt.plot(x, f(x))\n",
    "plt.plot(x, x **2)"
   ]
  },
  {
   "attachments": {},
   "cell_type": "markdown",
   "metadata": {},
   "source": [
    "### Test contigs string parsing:"
   ]
  },
  {
   "cell_type": "code",
   "execution_count": 2,
   "metadata": {},
   "outputs": [
    {
     "name": "stdout",
     "output_type": "stream",
     "text": [
      "['diffuser.T=50', 'potentials.guide_scale=5', 'inference.num_designs=10', \"potentials.guiding_potentials=['type:substrate_contacts,weight:0','type:substrate_motif_contacts,weight:4.0,cen_weight:0,pos_weight:6,neg_weight:0']\", 'potentials.guide_decay=quadratic', \"'contigmap.contigs=[Q1-6/0 20/A1-7/6-50/B1-7/9-50/C1-7/3-50/D1-7/20]'\", 'contigmap.length=200-200', \"'contigmap.inpaint_seq=[A1/A2/A3/A4/A5/A7/B1/B2/B3/B5/B6/B7/C1/C2/C3/C5/C6/C7/D1/D3/D4/D5/D6/D7]'\", 'potentials.substrate=EQU', 'inference.output_prefix=polyala_test6/C8-B5-D5-A0', 'inference.input_pdb=pdb_in/added_chainQ/C8-B5-D5-A0.pdb']\n",
      "<class 'list'>\n"
     ]
    }
   ],
   "source": [
    "import re\n",
    "\n",
    "command = \"diffuser.T=50 potentials.guide_scale=5 inference.num_designs=10 potentials.guiding_potentials=['type:substrate_contacts,weight:0','type:substrate_motif_contacts,weight:4.0,cen_weight:0,pos_weight:6,neg_weight:0'] potentials.guide_decay=quadratic 'contigmap.contigs=[Q1-6/0 20/A1-7/6-50/B1-7/9-50/C1-7/3-50/D1-7/20]' contigmap.length=200-200 'contigmap.inpaint_seq=[A1/A2/A3/A4/A5/A7/B1/B2/B3/B5/B6/B7/C1/C2/C3/C5/C6/C7/D1/D3/D4/D5/D6/D7]' potentials.substrate=EQU inference.output_prefix=polyala_test6/C8-B5-D5-A0 inference.input_pdb=pdb_in/added_chainQ/C8-B5-D5-A0.pdb\"\n",
    "\n",
    "arguments = re.split(r\"\\s+(?=(?:[^']*'[^']*')*[^']*$)\", command)\n",
    "\n",
    "print(arguments)\n",
    "print(type(arguments))"
   ]
  },
  {
   "attachments": {},
   "cell_type": "markdown",
   "metadata": {},
   "source": [
    "# Torch testing:"
   ]
  },
  {
   "cell_type": "code",
   "execution_count": 1,
   "metadata": {},
   "outputs": [],
   "source": [
    "import torch"
   ]
  },
  {
   "cell_type": "code",
   "execution_count": 51,
   "metadata": {},
   "outputs": [],
   "source": [
    "import torch\n",
    "\n",
    "def transform_trailing_true_to_false(T):\n",
    "    Tk = torch.clone(T)  # Create a clone of the input tensor\n",
    "\n",
    "    if torch.any(Tk):\n",
    "        trailing_true_indices = torch.where(Tk.flip(dims=(0,)) == True)[0]\n",
    "        print(trailing_true_indices)\n",
    "        first_trailing_true_index = Tk.size(0) - trailing_true_indices.size(0)\n",
    "        print(first_trailing_true_index)\n",
    "        Tk[first_trailing_true_index:] = False\n",
    "\n",
    "    return Tk\n",
    "\n",
    "def transform_v2(T):\n",
    "    '''AAA'''\n",
    "    def get_trailing_index(T):\n",
    "        for i, bool in enumerate(np.array(T)[::-1]):\n",
    "            if bool == False and i>0: return i\n",
    "    Tk = torch.clone(T)\n",
    "    \n",
    "    if torch.any(Tk):\n",
    "        t_idx = get_trailing_index(Tk)\n",
    "        Tk[-t_idx:] = False\n",
    "        return Tk\n",
    "    else:\n",
    "        return Tk\n",
    "    \n",
    "def transform_bool_tensor(T: torch.tensor) -> torch.tensor:\n",
    "    '''creates new diffusion mask with reduced flanking regions for motif contigs'''\n",
    "    Tt = np.copy(T)  # Create a copy of the input tensor\n",
    "\n",
    "    for i in range(1, T.shape[0] - 1):\n",
    "        if T[i - 1] == False or T[i + 1] == False:\n",
    "            Tt[i] = False\n",
    "    print(torch.tensor(Tt))\n",
    "\n",
    "    return torch.tensor(Tt)\n",
    "\n",
    "def transform_boolean_list(L):\n",
    "    Lt = [L[0]]  # Start with the first element of L\n",
    "\n",
    "    for i in range(1, len(L) - 1):\n",
    "        if Lt[-1] or not L[i + 1]:\n",
    "            Lt.append(L[i])\n",
    "        else:\n",
    "            Lt.append(False)\n",
    "\n",
    "    Lt.append(L[-1])  # Add the last element of L to Lt\n",
    "\n",
    "    return Lt\n"
   ]
  },
  {
   "cell_type": "code",
   "execution_count": 52,
   "metadata": {},
   "outputs": [],
   "source": [
    "T = torch.tensor([True, True, True, False, False, True, True, True, True, False, False, False, True, True, True, False, False, True, True, True])\n",
    "Tk = transform_v2(T)    "
   ]
  },
  {
   "cell_type": "code",
   "execution_count": 53,
   "metadata": {},
   "outputs": [
    {
     "name": "stdout",
     "output_type": "stream",
     "text": [
      "tensor([ True,  True,  True, False, False,  True,  True,  True,  True, False,\n",
      "        False, False,  True,  True,  True, False, False,  True,  True,  True])\n",
      "tensor([ True,  True, False, False, False, False,  True,  True, False, False,\n",
      "        False, False, False,  True, False, False, False, False,  True,  True])\n",
      "tensor([ True,  True, False, False, False, False,  True,  True, False, False,\n",
      "        False, False, False,  True, False, False, False, False,  True,  True])\n"
     ]
    }
   ],
   "source": [
    "print(T)\n",
    "print(transform_bool_tensor(T))"
   ]
  },
  {
   "cell_type": "code",
   "execution_count": 13,
   "metadata": {},
   "outputs": [
    {
     "name": "stdout",
     "output_type": "stream",
     "text": [
      "17\n",
      "17\n"
     ]
    }
   ],
   "source": [
    "print(len(T))\n",
    "print(len(Tk))"
   ]
  },
  {
   "cell_type": "markdown",
   "metadata": {},
   "source": [
    "# Other Stuff"
   ]
  },
  {
   "cell_type": "code",
   "execution_count": 26,
   "metadata": {},
   "outputs": [],
   "source": [
    "import pandas as pd\n",
    "import re\n",
    "\n",
    "def re_split_rfdiffusion_opts(command: str) -> list:\n",
    "    if command is None:\n",
    "        return []\n",
    "    return re.split(r\"\\s+(?=(?:[^']*'[^']*')*[^']*$)\", command)\n",
    "\n",
    "def exchange_contig(input_str: str, motif: dict) -> str:\n",
    "    ''' exchanges contig of rfdiffusion to fit active_site model requirements'''\n",
    "    # split args in rfdiffusion string and remove inpaint_seq\n",
    "    opts_l = [x for x in re_split_rfdiffusion_opts(input_str) if not \"inpaint_seq\" in x]\n",
    "    contig = opts_l[0]\n",
    "\n",
    "    # change linker minimum lengths:\n",
    "    contig = replace_number_with_10(contig)\n",
    "\n",
    "    # exchange fixed residues in contig:\n",
    "    for chain, res in motif.items():\n",
    "        contig = contig.replace(f\"{chain}1-7\", f\"{chain}{res[0]}-{res[0]}\")\n",
    "    \n",
    "    # remerge contig into opts_l and return concatenated opts:\n",
    "    opts_l[0] = contig\n",
    "    return \" \".join(opts_l)\n",
    "\n",
    "def replace_number_with_10(input_string):\n",
    "    # This regex matches any sequence of digits followed by '-50'\n",
    "    pattern = r'\\d+-50'\n",
    "    # Replace found patterns with '10-50'\n",
    "    return re.sub(pattern, '10-50', input_string)"
   ]
  },
  {
   "cell_type": "code",
   "execution_count": 2,
   "metadata": {},
   "outputs": [],
   "source": [
    "df = pd.read_json(\"/home/markus/projects/riff_diff/ensemble_evaluator/diff_scores/rad/rad_cone_long_50_t2/rad_cone_long_50_t2_scores.json\")"
   ]
  },
  {
   "cell_type": "code",
   "execution_count": 29,
   "metadata": {},
   "outputs": [
    {
     "name": "stdout",
     "output_type": "stream",
     "text": [
      "'contigmap.contigs=[Q5-16/0 20/A1-7/7-50/B1-7/10-50/C1-7/8-50/D1-7/20]' contigmap.length=200-200  'contigmap.inpaint_seq=[A1/A3/A4/A5/A6/A7/B1/B2/B4/B5/B6/B7/C1/C3/C4/C5/C6/C7/D1/D2/D3/D4/D5/D7]' potentials.substrate=LLK\n",
      "'contigmap.contigs=[Q5-16/0 20/A2-2/10-50/B3-3/10-50/C2-2/10-50/D6-6/20]' contigmap.length=200-200 potentials.substrate=LLK\n"
     ]
    }
   ],
   "source": [
    "old_opts = df.loc[0, \"rfdiffusion_pose_opts\"]\n",
    "motif = df.loc[0, \"template_fixedres\"]\n",
    "\n",
    "new_opts = exchange_contig(old_opts, motif)\n",
    "\n",
    "print(old_opts)\n",
    "print(new_opts)"
   ]
  },
  {
   "cell_type": "code",
   "execution_count": 14,
   "metadata": {},
   "outputs": [
    {
     "name": "stdout",
     "output_type": "stream",
     "text": [
      "0     {'A': [2], 'B': [3], 'C': [2], 'D': [6]}\n",
      "1     {'A': [5], 'B': [3], 'C': [5], 'D': [6]}\n",
      "2     {'A': [3], 'B': [2], 'C': [3], 'D': [5]}\n",
      "3     {'A': [3], 'B': [2], 'C': [3], 'D': [5]}\n",
      "4     {'A': [5], 'B': [3], 'C': [5], 'D': [6]}\n",
      "5     {'A': [5], 'B': [2], 'C': [5], 'D': [3]}\n",
      "6     {'A': [6], 'B': [4], 'C': [4], 'D': [6]}\n",
      "7     {'A': [6], 'B': [4], 'C': [4], 'D': [6]}\n",
      "8     {'A': [6], 'B': [4], 'C': [4], 'D': [6]}\n",
      "9     {'A': [3], 'B': [2], 'C': [3], 'D': [5]}\n",
      "10    {'A': [6], 'B': [4], 'C': [4], 'D': [6]}\n",
      "11    {'A': [6], 'B': [5], 'C': [3], 'D': [4]}\n",
      "12    {'A': [3], 'B': [2], 'C': [6], 'D': [5]}\n",
      "13    {'A': [2], 'B': [5], 'C': [4], 'D': [4]}\n",
      "14    {'A': [4], 'B': [4], 'C': [6], 'D': [6]}\n",
      "15    {'A': [5], 'B': [5], 'C': [5], 'D': [4]}\n",
      "16    {'A': [2], 'B': [6], 'C': [5], 'D': [5]}\n",
      "17    {'A': [6], 'B': [5], 'C': [2], 'D': [4]}\n",
      "18    {'A': [5], 'B': [5], 'C': [6], 'D': [3]}\n",
      "19    {'A': [6], 'B': [5], 'C': [2], 'D': [4]}\n",
      "20    {'A': [2], 'B': [6], 'C': [6], 'D': [5]}\n",
      "21    {'A': [5], 'B': [4], 'C': [4], 'D': [5]}\n",
      "22    {'A': [3], 'B': [3], 'C': [5], 'D': [4]}\n",
      "23    {'A': [3], 'B': [3], 'C': [5], 'D': [4]}\n",
      "24    {'A': [5], 'B': [3], 'C': [5], 'D': [6]}\n",
      "25    {'A': [6], 'B': [4], 'C': [4], 'D': [6]}\n",
      "26    {'A': [3], 'B': [2], 'C': [3], 'D': [5]}\n",
      "27    {'A': [3], 'B': [2], 'C': [3], 'D': [5]}\n",
      "28    {'A': [4], 'B': [4], 'C': [6], 'D': [6]}\n",
      "29    {'A': [5], 'B': [3], 'C': [4], 'D': [4]}\n",
      "30    {'A': [6], 'B': [4], 'C': [4], 'D': [6]}\n",
      "31    {'A': [4], 'B': [6], 'C': [6], 'D': [2]}\n",
      "32    {'A': [3], 'B': [3], 'C': [6], 'D': [2]}\n",
      "33    {'A': [3], 'B': [2], 'C': [3], 'D': [5]}\n",
      "Name: template_fixedres, dtype: object\n"
     ]
    }
   ],
   "source": [
    "print(df[\"template_fixedres\"])"
   ]
  },
  {
   "cell_type": "code",
   "execution_count": 10,
   "metadata": {},
   "outputs": [],
   "source": [
    "opts = df.loc[0,\"rfdiffusion_pose_opts\"]\n",
    "opts_l = re_split_rfdiffusion_opts(opts)\n",
    "opts_l = [x for x in opts_l if \"inpaint_seq\" not in x]\n",
    "#opts_l[0] = exchange_contig(opts_l[0])"
   ]
  },
  {
   "cell_type": "code",
   "execution_count": 24,
   "metadata": {},
   "outputs": [],
   "source": [
    "x = opts_l[0]"
   ]
  },
  {
   "cell_type": "code",
   "execution_count": 25,
   "metadata": {},
   "outputs": [
    {
     "name": "stdout",
     "output_type": "stream",
     "text": [
      "'contigmap.contigs=[Q5-16/0 20/A1-7/7-50/B1-7/10-50/C1-7/8-50/D1-7/20]'\n",
      "'contigmap.contigs=[Q5-16/0 20/A2-2/7-50/B3-3/10-50/C2-2/8-50/D6-6/20]'\n"
     ]
    }
   ],
   "source": [
    "print(x)\n",
    "motif = df.loc[0, \"template_fixedres\"]\n",
    "for chain, res in motif.items():\n",
    "    x = x.replace(f\"{chain}1-7\", f\"{chain}{res[0]}-{res[0]}\")\n",
    "print(x)"
   ]
  },
  {
   "cell_type": "code",
   "execution_count": 17,
   "metadata": {},
   "outputs": [
    {
     "name": "stdout",
     "output_type": "stream",
     "text": [
      "contigmap.contigs=[Q1-16/0 30/A2-2/10-50/B5-5/10-50/C6-6/10-50/D5-5/30]\n"
     ]
    }
   ],
   "source": [
    "target_contig = 'contigmap.contigs=[Q1-16/0 30/A2-2/10-50/B5-5/10-50/C6-6/10-50/D5-5/30]'\n",
    "print(target_contig)"
   ]
  },
  {
   "cell_type": "code",
   "execution_count": 1,
   "metadata": {},
   "outputs": [],
   "source": [
    "motif = {\"A\": [1, 23, 5, 3], \"B\": [3, 4, 6, 1], \"C\": [5,6,7,8,3,4], \"D\": [1,2,3,4]}\n",
    "out_l = [f\"{chain}{resi}\" for chain, res_l in motif.items() for resi in res_l]"
   ]
  },
  {
   "cell_type": "code",
   "execution_count": 2,
   "metadata": {},
   "outputs": [
    {
     "name": "stdout",
     "output_type": "stream",
     "text": [
      "['A1', 'A23', 'A5', 'A3', 'B3', 'B4', 'B6', 'B1', 'C5', 'C6', 'C7', 'C8', 'C3', 'C4', 'D1', 'D2', 'D3', 'D4']\n"
     ]
    }
   ],
   "source": [
    "print(out_l)"
   ]
  },
  {
   "cell_type": "code",
   "execution_count": null,
   "metadata": {},
   "outputs": [],
   "source": []
  }
 ],
 "metadata": {
  "kernelspec": {
   "display_name": "base",
   "language": "python",
   "name": "python3"
  },
  "language_info": {
   "codemirror_mode": {
    "name": "ipython",
    "version": 3
   },
   "file_extension": ".py",
   "mimetype": "text/x-python",
   "name": "python",
   "nbconvert_exporter": "python",
   "pygments_lexer": "ipython3",
   "version": "3.11.5"
  },
  "orig_nbformat": 4
 },
 "nbformat": 4,
 "nbformat_minor": 2
}
